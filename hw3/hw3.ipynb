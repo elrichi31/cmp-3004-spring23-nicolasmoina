{
 "cells": [
  {
   "attachments": {},
   "cell_type": "markdown",
   "id": "a2665cc8",
   "metadata": {},
   "source": [
    "## CMP-3004\n",
    "## Computer Organization\n",
    "\n",
    "### Spring 2023"
   ]
  },
  {
   "attachments": {},
   "cell_type": "markdown",
   "id": "df038792",
   "metadata": {},
   "source": [
    "## Homework 3"
   ]
  },
  {
   "attachments": {},
   "cell_type": "markdown",
   "id": "d7a5493e",
   "metadata": {},
   "source": [
    "### 1. Use assembly to solve the following problems:\n",
    "- Obtain the 50th Fibonacci number\n",
    "- Find out if a given year is leap\n",
    "- Given an array of integers, calculate the average\n",
    "- Write a program to transform from Celsius to Fahrenheit and vice versa"
   ]
  },
  {
   "attachments": {},
   "cell_type": "markdown",
   "id": "6d39def2",
   "metadata": {},
   "source": [
    "### 2. For the following memory space, what would it look like after executing the assembly code below:\n",
    "\n",
    "|Address|Contents|\n",
    "|-------|--------|\n",
    "|10     | 1      |\n",
    "|11     | 4      |\n",
    "|12     | 5      |\n",
    "|13     | 112    |\n",
    "|14     | 7      |\n",
    "\n",
    "```\n",
    "LOAD 14\n",
    "ADD (12)\n",
    "STORE 12\n",
    "```"
   ]
  },
  {
   "attachments": {},
   "cell_type": "markdown",
   "id": "fc365b73",
   "metadata": {},
   "source": [
    "|Address|Contents|\n",
    "|-------|--------|\n",
    "|10     | 1      |\n",
    "|11     | 4      |\n",
    "|12     | 12     |\n",
    "|13     | 112    |\n",
    "|14     | 7      |\n",
    "\n",
    "* LOAD 14 Carga el valor de la dirección 14 en el registro (en este caso es 7)\n",
    "* ADD (12) Suma el valor de la dirección 12 al valor del registro (en este caso es 7 + 5 = 12)\n",
    "* STORE 12 Guarda el valor del registro en la dirección 12 (en este caso es 12)"
   ]
  },
  {
   "attachments": {},
   "cell_type": "markdown",
   "id": "f7c2063e",
   "metadata": {},
   "source": [
    "### 3. Implement a function named `abs_diff` that calculates the absolute value of the difference of two inputs `a` and `b` (i.e., |a-b|), and get the assembly code output"
   ]
  },
  {
   "attachments": {},
   "cell_type": "markdown",
   "id": "9434cef1",
   "metadata": {},
   "source": [
    "```\n",
    "\t.file\t\"1.c\"\n",
    "\t.text\n",
    "\t.globl\tabs_diff\n",
    "\t.type\tabs_diff, @function\n",
    "abs_diff:\n",
    ".LFB0:\n",
    "\t.cfi_startproc\n",
    "\tendbr64\n",
    "\tpushq\t%rbp\n",
    "\t.cfi_def_cfa_offset 16\n",
    "\t.cfi_offset 6, -16\n",
    "\tmovq\t%rsp, %rbp\n",
    "\t.cfi_def_cfa_register 6\n",
    "\tmovl\t%edi, -20(%rbp)\n",
    "\tmovl\t%esi, -24(%rbp)\n",
    "\tmovl\t-20(%rbp), %eax\n",
    "\tsubl\t-24(%rbp), %eax\n",
    "\tmovl\t%eax, -4(%rbp)\n",
    "\tcmpl\t$0, -4(%rbp)\n",
    "\tjns\t.L2\n",
    "\tnegl\t-4(%rbp)\n",
    ".L2:\n",
    "\tmovl\t-4(%rbp), %eax\n",
    "\tpopq\t%rbp\n",
    "\t.cfi_def_cfa 7, 8\n",
    "\tret\n",
    "\t.cfi_endproc\n",
    ".LFE0:\n",
    "\t.size\tabs_diff, .-abs_diff\n",
    "\t.ident\t\"GCC: (Ubuntu 9.4.0-1ubuntu1~20.04.1) 9.4.0\"\n",
    "\t.section\t.note.GNU-stack,\"\",@progbits\n",
    "\t.section\t.note.gnu.property,\"a\"\n",
    "\t.align 8\n",
    "\t.long\t 1f - 0f\n",
    "\t.long\t 4f - 1f\n",
    "\t.long\t 5\n",
    "0:\n",
    "\t.string\t \"GNU\"\n",
    "1:\n",
    "\t.align 8\n",
    "\t.long\t 0xc0000002\n",
    "\t.long\t 3f - 2f\n",
    "2:\n",
    "\t.long\t 0x3\n",
    "3:\n",
    "\t.align 8\n",
    "4:\n",
    "```"
   ]
  },
  {
   "attachments": {},
   "cell_type": "markdown",
   "id": "85a4f601",
   "metadata": {},
   "source": [
    "### 4. What are the differences among sequential access, direct access, and random access?"
   ]
  },
  {
   "attachments": {},
   "cell_type": "markdown",
   "id": "e137379b",
   "metadata": {},
   "source": [
    "* Acceso secuencial: \n",
    "Este es uno de los métodos mas simples de acceso a la información, en este caso se accede a la información de manera secuencial, es decir, se accede a la información de manera ordenada, por ejemplo, si se tiene una lista de 10 elementos, se accedería al primer elemento, luego al segundo, luego al tercero, y asi sucesivamente hasta llegar al ultimo elemento.\n",
    "\n",
    "* Acceso directo:\n",
    "En este método podemos saltar de manera directa a un bloque o una ubicación de información determinada sin tener que pasar por los bloques anteriores, por ejemplo, si se tiene una lista de 10 elementos, se puede acceder al elemento 5 sin tener que pasar por los elementos anteriores.\n",
    "\n",
    "* Acceso aleatorio:\n",
    "Para el acceso aleatorio podemos acceder a cualquier ubicación de memoria de manera inmediata y no existe una diferencia de tiempo para poder acceder a diferentes ubicaciones de memoria como en el acceso secuencial o directo, por ejemplo, si se tiene una lista de 10 elementos, se puede acceder al elemento 5 sin tener que pasar por los elementos anteriores y sin tener que esperar a que se acceda a los elementos anteriores."
   ]
  },
  {
   "attachments": {},
   "cell_type": "markdown",
   "id": "02d33e02",
   "metadata": {},
   "source": [
    "### 5. What common characteristics are shared by all RAID levels?"
   ]
  },
  {
   "attachments": {},
   "cell_type": "markdown",
   "id": "ebd2c9c3",
   "metadata": {},
   "source": [
    "* Uso de multiples discos: Todos los niveles del RAID ocupan mas de un disco duro, esto es algo fundamentar para el concepto del mismo ya que se necesita mas de un disco para poder implementar el RAID y ademas de que permite la redundancia y el aumento de rendimiento.\n",
    "\n",
    "* Redundancia: Todos los niveles del RAID tienen redundancia, esto es algo fundamental para el concepto del mismo ya que permite que si un disco duro falla, se pueda recuperar la información de los otros discos duros.\n",
    "\n",
    "* Aumento en el rendimiento: La mayoría de RAID buscan mejorar el rendimiento de los discos duros, distribuyendo los datos en varios discos duros, esto permite que se pueda acceder a los datos de manera mas rápida y a su vez mejorar la escritura.\n",
    "\n",
    "* Gestión de discos: En todos los niveles del RAID se requiere un software o hardware que ayude a gestionar como los datos se distribuyen entre los discos y como se lee la información cuando esta es requerida.\n",
    "\n",
    "* Intercambio en ejecución: En muchos sistemas RAID se puede intercambiar un disco duro mientras el sistema esta en ejecución, esto permite que se pueda cambiar un disco duro que esta fallando sin tener que apagar el sistema."
   ]
  }
 ],
 "metadata": {
  "kernelspec": {
   "display_name": "Python 3",
   "language": "python",
   "name": "python3"
  },
  "language_info": {
   "codemirror_mode": {
    "name": "ipython",
    "version": 3
   },
   "file_extension": ".py",
   "mimetype": "text/x-python",
   "name": "python",
   "nbconvert_exporter": "python",
   "pygments_lexer": "ipython3",
   "version": "3.9.13"
  }
 },
 "nbformat": 4,
 "nbformat_minor": 5
}

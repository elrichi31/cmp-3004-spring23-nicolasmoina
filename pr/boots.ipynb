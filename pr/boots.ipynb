{
 "cells": [
  {
   "cell_type": "code",
   "execution_count": 132,
   "metadata": {},
   "outputs": [
    {
     "name": "stdout",
     "output_type": "stream",
     "text": [
      "El complemento a dos de 00111 es: 11001\n"
     ]
    }
   ],
   "source": [
    "def complemento_dos(binario):\n",
    "    # Invertir los bits\n",
    "    binario_invertido = ''.join('1' if bit == '0' else '0' for bit in binario)\n",
    "\n",
    "    # Sumar 1 al número binario invertido\n",
    "    binario_complemento_dos = bin(int(binario_invertido, 2) + 1)[2:]\n",
    "\n",
    "    # Agregar ceros al principio si es necesario\n",
    "    ceros_faltantes = len(binario) - len(binario_complemento_dos)\n",
    "    binario_complemento_dos = '0' * ceros_faltantes + binario_complemento_dos\n",
    "\n",
    "    return binario_complemento_dos\n",
    "\n",
    "# Ejemplo de uso\n",
    "binario = \"00111\"  # Número binario de ejemplo\n",
    "resultado = complemento_dos(binario)\n",
    "print(\"El complemento a dos de {} es: {}\".format(binario, resultado))\n",
    "\n"
   ]
  },
  {
   "cell_type": "code",
   "execution_count": 88,
   "metadata": {},
   "outputs": [
    {
     "name": "stdout",
     "output_type": "stream",
     "text": [
      "El resultado de hacer un 'right shift custom' en 1101 es: 1110\n"
     ]
    }
   ],
   "source": [
    "def right_shift(binario):\n",
    "    # Verificar si el número binario es vacío\n",
    "    if not binario:\n",
    "        return \"\"\n",
    "\n",
    "    # Realizar el \"right shift\" y agregar un 1 a la izquierda si el primer número es 1, o un 0 si el primer número es 0\n",
    "    bit_extra = binario[0]\n",
    "    return bit_extra + binario[:-1]\n",
    "\n",
    "# Ejemplo de uso\n",
    "binario = \"1101\"  # Número binario de ejemplo\n",
    "resultado = right_shift(binario)\n",
    "print(\"El resultado de hacer un 'right shift custom' en {} es: {}\".format(binario, resultado))\n"
   ]
  },
  {
   "cell_type": "code",
   "execution_count": 96,
   "metadata": {},
   "outputs": [
    {
     "name": "stdout",
     "output_type": "stream",
     "text": [
      "El resultado de hacer un 'right shift custom' en 1101 es: 100\n"
     ]
    }
   ],
   "source": [
    "def right_shift_new(binario1, binario2):\n",
    "    # Verificar si el número binario es vacío\n",
    "    if not binario1:\n",
    "        return \"\"\n",
    "\n",
    "    # Realizar el \"right shift\" y agregar un 1 a la izquierda si el primer número es 1, o un 0 si el primer número es 0\n",
    "    bit_extra = binario1[-1]\n",
    "    return bit_extra + binario2[:-1]\n",
    "\n",
    "# Ejemplo de uso\n",
    "binario1 = \"111\"  # Número binario de ejemplo\n",
    "binario2 = \"001\"\n",
    "resultado = right_shift_new(binario1, binario2)\n",
    "print(\"El resultado de hacer un 'right shift custom' en {} es: {}\".format(binario, resultado))"
   ]
  },
  {
   "cell_type": "code",
   "execution_count": 143,
   "metadata": {},
   "outputs": [
    {
     "name": "stdout",
     "output_type": "stream",
     "text": [
      "La resta de 00100 y 01011 es: 11001\n"
     ]
    }
   ],
   "source": [
    "def resta_binarios(binario1, binario2):\n",
    "    # Convertir los números binarios a enteros\n",
    "    num1 = int(binario1, 2)\n",
    "    num2 = int(binario2, 2)\n",
    "\n",
    "    # Realizar la resta\n",
    "    resultado = num1 - num2\n",
    "    longitud_original = max(len(binario1), len(binario2))\n",
    "\n",
    "    # Convertir el resultado a su representación en complemento a dos si es negativo\n",
    "    if resultado < 0:\n",
    "        resultado = abs(resultado)\n",
    "        resultado_binario = bin(resultado)[2:]\n",
    "        resultado_binario = \"0\" * (longitud_original - len(resultado_binario)) + resultado_binario\n",
    "        resultado_binario = complemento_dos(resultado_binario)\n",
    "    else:\n",
    "        # Convertir el resultado a binario y quitar el prefijo '0b'\n",
    "        resultado_binario = bin(resultado)[2:]\n",
    "\n",
    "    # Comprobar si el resultado tiene más dígitos que el número original y, si es así, agregar ceros a la izquierda hasta tener la misma cantidad de dígitos que el número original\n",
    "    if len(resultado_binario) < longitud_original:\n",
    "        resultado_binario = \"0\" * (longitud_original - len(resultado_binario)) + resultado_binario\n",
    "    elif len(resultado_binario) > longitud_original:\n",
    "        resultado_binario = resultado_binario[-longitud_original:]\n",
    "\n",
    "    return resultado_binario\n",
    "\n",
    "\n",
    "# Ejemplo de uso\n",
    "binario1 = \"00100\"  # Primer número binario de ejemplo\n",
    "binario2 = \"01011\"  # Segundo número binario de ejemplo\n",
    "resultado = resta_binarios(binario1, binario2)\n",
    "print(\"La resta de {} y {} es: {}\".format(binario1, binario2, resultado))\n",
    "\n",
    "\n"
   ]
  },
  {
   "cell_type": "code",
   "execution_count": 69,
   "metadata": {},
   "outputs": [
    {
     "name": "stdout",
     "output_type": "stream",
     "text": [
      "La suma de 11101 y 01011 es: 01000\n"
     ]
    }
   ],
   "source": [
    "def suma_binarios(binario1, binario2):\n",
    "    # Convertir los números binarios a enteros\n",
    "    num1 = int(binario1, 2)\n",
    "    num2 = int(binario2, 2)\n",
    "\n",
    "    # Realizar la suma\n",
    "    resultado = num1 + num2\n",
    "\n",
    "    # Convertir el resultado a binario y quitar el prefijo '0b'\n",
    "    resultado_binario = bin(resultado)[2:]\n",
    "\n",
    "    # Comprobar si el resultado tiene más dígitos que el número original y, si es así, quedarse solo con los últimos 4 dígitos\n",
    "    longitud_original = max(len(binario1), len(binario2))\n",
    "    if len(resultado_binario) > longitud_original:\n",
    "        resultado_binario = resultado_binario[-len(binario1):]\n",
    "\n",
    "    return resultado_binario\n",
    "\n",
    "# Ejemplo de uso\n",
    "binario1 = \"11101\"  # Primer número binario de ejemplo\n",
    "binario2 = \"01011\"  # Segundo número binario de ejemplo\n",
    "resultado = suma_binarios(binario1, binario2)\n",
    "print(\"La suma de {} y {} es: {}\".format(binario1, binario2, resultado))\n",
    "\n",
    "\n"
   ]
  },
  {
   "cell_type": "code",
   "execution_count": 70,
   "metadata": {},
   "outputs": [
    {
     "name": "stdout",
     "output_type": "stream",
     "text": [
      "El último dígito de la cadena 12345 es: 5\n"
     ]
    }
   ],
   "source": [
    "def ultimo_digito(cadena):\n",
    "    if len(cadena) == 0:\n",
    "        return None\n",
    "    else:\n",
    "        return cadena[-1]\n",
    "\n",
    "# Ejemplo de uso\n",
    "cadena = \"12345\"  # Cadena de ejemplo\n",
    "resultado = ultimo_digito(cadena)\n",
    "print(\"El último dígito de la cadena {} es: {}\".format(cadena, resultado))\n"
   ]
  },
  {
   "cell_type": "code",
   "execution_count": 147,
   "metadata": {},
   "outputs": [],
   "source": [
    "def multiplication(a, b):\n",
    "    zeros = \"\"\n",
    "    md = a\n",
    "    pd = zeros.zfill(len(a))\n",
    "    mr = b\n",
    "    mx = \"0\"\n",
    "    cr = len(a)\n",
    "\n",
    "    print(f\" MD = {md} \\n PD = {pd} \\n MR = {mr} \\n MX = {mx} \\n CR = {cr}\")\n",
    "    print(\"------------------------\")\n",
    "    \n",
    "    while(cr > 0):\n",
    "\n",
    "        print(mr[-1], mx, cr)\n",
    "        if(mr[-1] == \"1\" and mx == \"0\" and pd == zeros.zfill(len(a))):\n",
    "            pd = complemento_dos(md)\n",
    "        elif(mr[-1] == \"1\" and mx == \"0\"):\n",
    "            pd = resta_binarios(pd, md)\n",
    "        elif(mr[-1] == \"0\" and mx == \"1\"):\n",
    "            pd = suma_binarios(pd, md)\n",
    "    \n",
    "        mx = ultimo_digito(mr)\n",
    "        mr = right_shift_new(pd, mr)\n",
    "        pd = right_shift(pd)\n",
    "        cr -= 1\n",
    "        \n",
    "        print(f\" MD = {md} \\n PD = {pd} \\n MR = {mr} \\n MX = {mx} \\n CR = {cr}\")\n",
    "        print(\"------------------------\")\n",
    "\n",
    "    print(f\"Resultado = {pd + mr}\")"
   ]
  },
  {
   "cell_type": "code",
   "execution_count": 148,
   "metadata": {},
   "outputs": [
    {
     "name": "stdout",
     "output_type": "stream",
     "text": [
      " MD = 11100 \n",
      " PD = 00000 \n",
      " MR = 11000 \n",
      " MX = 0 \n",
      " CR = 5\n",
      "------------------------\n",
      "0 0 5\n",
      " MD = 11100 \n",
      " PD = 00000 \n",
      " MR = 01100 \n",
      " MX = 0 \n",
      " CR = 4\n",
      "------------------------\n",
      "0 0 4\n",
      " MD = 11100 \n",
      " PD = 00000 \n",
      " MR = 00110 \n",
      " MX = 0 \n",
      " CR = 3\n",
      "------------------------\n",
      "0 0 3\n",
      " MD = 11100 \n",
      " PD = 00000 \n",
      " MR = 00011 \n",
      " MX = 0 \n",
      " CR = 2\n",
      "------------------------\n",
      "1 0 2\n",
      " MD = 11100 \n",
      " PD = 00010 \n",
      " MR = 00001 \n",
      " MX = 1 \n",
      " CR = 1\n",
      "------------------------\n",
      "1 1 1\n",
      " MD = 11100 \n",
      " PD = 00001 \n",
      " MR = 00000 \n",
      " MX = 1 \n",
      " CR = 0\n",
      "------------------------\n",
      "Resultado = 0000100000\n"
     ]
    }
   ],
   "source": [
    "multiplication(\"11100\", \"11000\")"
   ]
  },
  {
   "cell_type": "code",
   "execution_count": null,
   "metadata": {},
   "outputs": [],
   "source": []
  }
 ],
 "metadata": {
  "kernelspec": {
   "display_name": "Python 3",
   "language": "python",
   "name": "python3"
  },
  "language_info": {
   "codemirror_mode": {
    "name": "ipython",
    "version": 3
   },
   "file_extension": ".py",
   "mimetype": "text/x-python",
   "name": "python",
   "nbconvert_exporter": "python",
   "pygments_lexer": "ipython3",
   "version": "3.9.13"
  },
  "orig_nbformat": 4
 },
 "nbformat": 4,
 "nbformat_minor": 2
}

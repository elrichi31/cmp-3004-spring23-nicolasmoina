{
 "cells": [
  {
   "cell_type": "markdown",
   "id": "a2665cc8",
   "metadata": {},
   "source": [
    "## CMP-3004\n",
    "## Computer Organization\n",
    "\n",
    "### Spring 2023"
   ]
  },
  {
   "cell_type": "markdown",
   "id": "df038792",
   "metadata": {},
   "source": [
    "## Homework 2"
   ]
  },
  {
   "cell_type": "markdown",
   "id": "d7a5493e",
   "metadata": {},
   "source": [
    "### 1. List and briefly define the possible states that define an instruction execution."
   ]
  },
  {
   "attachments": {},
   "cell_type": "markdown",
   "id": "249c3166",
   "metadata": {},
   "source": [
    "Los estados pueden llegar a variar según la arquitectura o el diseño de un procesador, pero existen un conjunto en común de estados básicos\n",
    "1.\tBúsqueda: El procesador busca la instrucción que se agregó en la memoria utilizando la dirección almacenada en el contador del programa luego este se incrementa y apunta a la siguiente dirección en la secuencia\n",
    "2.\tDecodificación: En esta etapa la instrucción que fue buscada se decodifica y se determina la operación que estaba realizar, así como cualquier otro operando necesario para realizar la tarea para esta etapa los modos de direccionamiento y valores de registros podrían llegar a ser identificados\n",
    "3.\tBúsqueda de operandos: Para esta etapa el procesador busca en los operandos o datos necesarios para realizar la institución en los registros de memoria este paso se podría llegar a omitir ya que ciertas instrucciones no requieren operandos\n",
    "4.\tEjecución: El procesador realiza la operación de la instrucción y se pueden llevar a cabo operaciones lógicas aritméticas o acceso a memoria o control de los resultados de estas operaciones se almacenan en los registros de memoria dependiendo de la instrucción dada\n",
    "5.\tEscritura de resultados: Para este estado hoy los resultados de lo que se ejecutó se almacenan en los registros de destino o en la ubicación de memoria y con esto se completa el proceso de ejecución de la instrucción\n",
    "6.\tManejo de interrupciones: esta puede ocurrir durante la ejecución de diferentes instrucciones para manejar eventos externos o condiciones que requieran una atención especial si se produce una interrupción el procesador guarda el estado actual proceso de interrupción y luego reanuda la ejecución normal de las instrucciones\n",
    "\n",
    "Respuesta extraída de los siguientes links:\n",
    "- http://cv.uoc.edu/annotation/8255a8c320f60c2bfd6c9f2ce11b2e7f/619469/PID_00218272/PID_00218272.html#:~:text=el%20operando%20destino.-,Ejecuci%C3%B3n%20de%20la%20instrucci%C3%B3n,palabra%20de%20estado%20del%20procesador.\n",
    "- https://www.profesordeinformatica.com/hardware/ejecucion_instruccion\n",
    "- https://www.youtube.com/watch?v=-URf73z9tKY&ab_channel=Aprendeconmigo\n"
   ]
  },
  {
   "cell_type": "markdown",
   "id": "6d39def2",
   "metadata": {},
   "source": [
    "### 2. What types of transfers must a computer’s interconnection structure (e.g., bus) support?"
   ]
  },
  {
   "attachments": {},
   "cell_type": "markdown",
   "id": "616c87b0",
   "metadata": {},
   "source": [
    "Estructura de interconexión de una computadora como un bus es responsable de que las comunicaciones y la transferencia de datos se faciliten entre los diferentes componentes que existen dentro del sistema existen varios tipos de transferencias que una estructura de interconexión debería admitir\n",
    "-\tTransferencia de datos: hoy esto implica mover los datos a diferentes componentes como la memoria del CPU o ha los dispositivos periféricos estas se pueden llegar a dividir en operaciones de lectura y escritura donde primero se lee la información de una ubicación específica y luego se escribe en esa ubicación respectivamente\n",
    "-\tTransferencias de control: las transferencias de control se basan en transmitir diferentes señales de control entre los componentes del sistema para poder coordinar sus actividades un ejemplo de esta señal es de control pueden ser solicitudes de interrupción, señales de reconocimiento o comandos de lectura o escritura. Estos nos ayudan a poder administrar un flujo general de datos y garantizar que los componentes trabajen de manera sincronizada\n",
    "-\tTransferencia de direcciones: esto implica comunicar las direcciones de memoria entre los diferentes componentes, a su vez nos ayudan a identificar el origen o destino de los datos que se van a transferir un ejemplo de esto sería cuando el CPU envía una dirección de memoria al controlador de la memoria o cuando se accede a algún dispositivo\n",
    "\n",
    "Respuesta extraida de los siguientes links:\n",
    "- http://serbal.pntic.mec.es/irec0010/bus.html#:~:text=F%C3%ADsicamente%20su%20descripci%C3%B3n%20es%3A%20conjunto,la%20CPU%20y%20la%20memoria.\n",
    "- https://www.monografias.com/trabajos/bus/bus\n",
    "- https://aulavirtual.sld.cu/pluginfile.php/6323/mod_imscp/content/1/tipos_de_buses_de_computadoras.html\n",
    "- https://www.cartagena99.com/recursos/alumnos/apuntes/ININF1_M10_U2_T1.pdf"
   ]
  },
  {
   "attachments": {},
   "cell_type": "markdown",
   "id": "f7c2063e",
   "metadata": {},
   "source": [
    "### 3. Consider a hypothetical 32-bit microprocessor having 32-bit instructions composed of two fields: the first byte contains the opcode and the remainder the immediate operand or an operand address.\n",
    "a. What is the maximum directly addressable memory capacity (in bytes)?\n",
    "\n",
    "El máximo de memoria que es direccionable se puede determinar a partir del campo de dirección en las instrucciones de 32 bits, el primer byte(8 bits) se reservan para el opcode y los otros 24 bits son utilizados para la dirección del operando por lo que la capacidad maxima de memoria que es direccionable es\n",
    "\n",
    "2^24 bytes = 16777216 o 16mb\n",
    "\n",
    "b. Discuss the impact on the system speed if the microprocessor bus has:\n",
    "\n",
    "    1. 32-bit local address bus and a 16-bit local data bus\n",
    "\n",
    "Una dirección local de 32 bits y un bus local de datos de 16 bits, nos permite que el microprocesador pueda transferir 16 bits de datos en cada uno de los ciclos de iteración, lo cual nos reduce la cantidad de ciclos de bus que son necesarios para poder almacenar o cargar datos, sin embargo todavía se necesitan dos ciclos de bus para que podamos transferir los 32 bits a diferencia de tener un bus local de datos de 32 bits. Cuando tenemos un bus local de datos de 32 bits el microprocesador tiene mas memoria de la que permite el conjunto de instrucciones por lo que podria a llegar a afectar el rendimiento en el sistema\n",
    "\n",
    "    2. 16-bit local address bus and a 16-bit local data bus.\n",
    "    \n",
    "Una dirección local de 16 bits y un bus local de datos de 16 bits. Esto hace que el microprocesador solo direcciones directamente 2^16 = 64 KB, esto puede llegar a limitar la cantidad de memoria que se tiene que utilizar, por lo que afectar al rendimiento de aplicaciones que requieren mas memoria, pero esto se podría solucionar implementando un sistema adicional de segmentación, ademas el numero de ciclos necesarios son 4  por lo que si se implementa este sistema de segmentacion no podria llegar a afectar, pero inicialmente el sistema se ve afectado en rendimiento \n",
    "\n",
    "c. How many bits are needed for the program counter and the instruction register?\n",
    "\n",
    "Estos deben ser lo suficientemente grandes como para poder almacenar un instruction completa de 32 bits, por lo que el mínimo de bits necesarios para que contador del programa y el registro de instrucciones funcione correctamente son 32 bits "
   ]
  },
  {
   "attachments": {},
   "cell_type": "markdown",
   "id": "85a4f601",
   "metadata": {},
   "source": [
    "### 4. A microprocessor is clocked at a rate of 5 GHz.\n",
    "a. How long is a clock cycle?\n",
    "\n",
    "<img src=img1.jpg>\n",
    "b. What is the duration of a particular type of machine instruction consisting of three clock cycles?\n",
    "\n",
    "<img src=img2.jpg>"
   ]
  },
  {
   "attachments": {},
   "cell_type": "markdown",
   "id": "02d33e02",
   "metadata": {},
   "source": [
    "### 5. Suppose you wish to run a program P with $7.5 \\times 10^9$ instructions on a 5 GHz machine with a CPI of 0.8.\n",
    "a. What is the expected CPU time?\n",
    "<img src=\"img3.jpg\">\n",
    "b. When you run P, it takes 3 seconds of wall clock time to complete. What is the percentage of the CPU time P received?\n",
    "<img src=\"img4.jpg\">"
   ]
  },
  {
   "cell_type": "markdown",
   "id": "18c4b56e",
   "metadata": {},
   "source": [
    "### 6. A nonpipelined processor has a clock rate of 2.5 GHz and an average CPI (cycles per instruction) of 4. An upgrade to the processor introduces a five-stage pipeline. However, due to internal pipeline delays, such as latch delay, the clock rate of the new processor has to be reduced to 2 GHz. What is the speedup achieved for a typical program?"
   ]
  },
  {
   "attachments": {},
   "cell_type": "markdown",
   "id": "cc3cfd21",
   "metadata": {},
   "source": [
    "<img src=\"img5.jpg\">"
   ]
  }
 ],
 "metadata": {
  "kernelspec": {
   "display_name": "Python 3",
   "language": "python",
   "name": "python3"
  },
  "language_info": {
   "codemirror_mode": {
    "name": "ipython",
    "version": 3
   },
   "file_extension": ".py",
   "mimetype": "text/x-python",
   "name": "python",
   "nbconvert_exporter": "python",
   "pygments_lexer": "ipython3",
   "version": "3.8.8"
  }
 },
 "nbformat": 4,
 "nbformat_minor": 5
}

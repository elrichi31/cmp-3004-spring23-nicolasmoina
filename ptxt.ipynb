{
 "cells": [
  {
   "cell_type": "code",
   "execution_count": 26,
   "metadata": {
    "vscode": {
     "languageId": "python"
    }
   },
   "outputs": [
    {
     "data": {
      "text/html": [
       "Changes: <br /><table><tr><th>Type</th><th>Identifier</th><th>Value</th><tr><td>Register</td><td>EBX</td>\n",
       "            <td>16</td></tr><tr><td>Register</td><td>EDX</td>\n",
       "            <td>2</td></tr></table>"
      ]
     },
     "metadata": {},
     "output_type": "display_data"
    }
   ],
   "source": [
    "mov edx, 2\n",
    "mov ebx, 16"
   ]
  },
  {
   "cell_type": "code",
   "execution_count": 5,
   "metadata": {
    "vscode": {
     "languageId": "python"
    }
   },
   "outputs": [
    {
     "name": "stdout",
     "output_type": "stream",
     "text": [
      "Line 1: Unknown symbol: ezx"
     ]
    }
   ],
   "source": [
    "mov ex, 1"
   ]
  },
  {
   "cell_type": "code",
   "execution_count": 13,
   "metadata": {
    "vscode": {
     "languageId": "python"
    }
   },
   "outputs": [
    {
     "name": "stdout",
     "output_type": "stream",
     "text": [
      "Line 1: Invalid instruction: base^exp1"
     ]
    }
   ],
   "source": [
    "base^exp1 .asm\n"
   ]
  },
  {
   "cell_type": "code",
   "execution_count": 25,
   "metadata": {
    "vscode": {
     "languageId": "arm"
    }
   },
   "outputs": [
    {
     "name": "stdout",
     "output_type": "stream",
     "text": [
      "Line 11: Unknown symbol: loop"
     ]
    }
   ],
   "source": [
    ".data \n",
    "    base DB 8\n",
    "    exp1 DB 2 \n",
    ".text  \n",
    "    mov eax, [base]\n",
    "    mov edx, [base]\n",
    "    mov ecx, [exp1]\n",
    "loop: imul eax, edx\n",
    "          dec ecx \n",
    "          cmp ecx, 1\n",
    "          jne loop"
   ]
  },
  {
   "cell_type": "code",
   "execution_count": 24,
   "metadata": {
    "vscode": {
     "languageId": "arm"
    }
   },
   "outputs": [
    {
     "name": "stdout",
     "output_type": "stream",
     "text": [
      "Line 35: Invalid argument: 0x86"
     ]
    }
   ],
   "source": [
    "section .data\n",
    "    n db 10               ; El número máximo para el array\n",
    "    array times n db 0   ; El array con espacio para n números\n",
    "    sum dq 0              ; La variable donde se almacenará la suma\n",
    "    two dd 2              ; La constante 2\n",
    "\n",
    "section .text\n",
    "    global _start\n",
    "\n",
    "_start:\n",
    "    mov ecx, n           ; Inicializa el contador del loop con n\n",
    "    mov rdi, offset array  ; Establece el puntero al inicio del array\n",
    "    mov byte ptr [rdi], 1    ; Establece el primer valor en el array a 1\n",
    "    mov eax, 1           ; Carga el valor 1 en eax\n",
    "    add qword ptr [sum], rax ; Agrega el primer valor a la suma\n",
    "    inc rdi              ; Incrementa el puntero al siguiente elemento del array\n",
    "\n",
    "    ; Este loop construye el array y acumula la suma\n",
    "    loop_start:\n",
    "        imul eax, dword ptr [two] ; Multiplica el valor actual en eax por 2\n",
    "        mov byte ptr [rdi], al    ; Establece el valor siguiente en el array\n",
    "        add qword ptr [sum], rax  ; Agrega el valor a la suma\n",
    "        inc rdi              ; Incrementa el puntero al siguiente elemento del array\n",
    "        dec ecx              ; Decrementa el contador del loop\n",
    "        jnz loop_start       ; Repite el loop mientras el contador no sea 0\n",
    "\n",
    "    ; El loop termina cuando ecx = 0\n",
    "    \n",
    "    ; Haz algo con la suma aquí, por ejemplo imprimirla\n",
    "    ; ...\n",
    "\n",
    "    ; Termina el programa\n",
    "    mov eax, 1    ; Código de salida 1\n",
    "    xor ebx, ebx  ; Limpia ebx\n",
    "    int 0x86      ; Llamada al sistema para terminar el programa\n"
   ]
  },
  {
   "cell_type": "code",
   "execution_count": 23,
   "metadata": {
    "vscode": {
     "languageId": "python"
    }
   },
   "outputs": [
    {
     "name": "stdout",
     "output_type": "stream",
     "text": [
      "Line 4: Invalid instruction: n"
     ]
    }
   ],
   "source": [
    "mov eax, 2\n",
    "mov edx, 2\n",
    "mov ecx, 10\n",
    "loop: imul eax, edx\n",
    "      dec ecx \n",
    "      cmp ecx, 1\n",
    "      jne loop"
   ]
  },
  {
   "cell_type": "code",
   "execution_count": 28,
   "metadata": {
    "vscode": {
     "languageId": "arm"
    }
   },
   "outputs": [
    {
     "name": "stdout",
     "output_type": "stream",
     "text": [
      "Line 16: Unknown symbol: loop"
     ]
    }
   ],
   "source": [
    ".data\n",
    "    x DB 3, 8, 5, 2\n",
    "    y DW 13 DUP (-50)\n",
    "    z DD 'hello', 0\n",
    "\n",
    "; Store array values\n",
    ".text\n",
    "    mov eax, [x+1] \n",
    "    mov ebx, [y+13]\n",
    "    mov ecx, [z]\n",
    "    mov edx, [y+12]\n",
    ";\n",
    "loop: imul eax, edx\n",
    "          dec ecx \n",
    "          cmp ecx, 1\n",
    "          jne loop"
   ]
  }
 ],
 "metadata": {
  "kernelspec": {
   "display_name": "Intel",
   "language": "",
   "name": "intel"
  },
  "language_info": {
   "file_extension": "x86",
   "mimetype": "intel",
   "name": "intel"
  },
  "orig_nbformat": 4,
  "vscode": {
   "interpreter": {
    "hash": "837127ec35c91e86170fdd1e56dc7f7c1e274626e9c541191aa390ab4e003e34"
   }
  }
 },
 "nbformat": 4,
 "nbformat_minor": 2
}
